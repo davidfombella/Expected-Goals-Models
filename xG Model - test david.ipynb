{
 "cells": [
  {
   "cell_type": "markdown",
   "metadata": {},
   "source": [
    "## ATTEMPT AT MAKING AN EXPECTED GOALS MODEL"
   ]
  },
  {
   "cell_type": "markdown",
   "metadata": {},
   "source": [
    "#### DATA EXPLORATION"
   ]
  },
  {
   "cell_type": "markdown",
   "metadata": {},
   "source": [
    "We start off by importing pandas library to handle the data"
   ]
  },
  {
   "cell_type": "code",
   "execution_count": 1,
   "metadata": {},
   "outputs": [],
   "source": [
    "import pandas as pd"
   ]
  },
  {
   "cell_type": "markdown",
   "metadata": {},
   "source": [
    "Reading in the data into a DataFrame"
   ]
  },
  {
   "cell_type": "code",
   "execution_count": 2,
   "metadata": {},
   "outputs": [],
   "source": [
    "df = pd.read_excel('output.xlsx')"
   ]
  },
  {
   "cell_type": "code",
   "execution_count": 3,
   "metadata": {},
   "outputs": [
    {
     "data": {
      "text/html": [
       "<div>\n",
       "<style scoped>\n",
       "    .dataframe tbody tr th:only-of-type {\n",
       "        vertical-align: middle;\n",
       "    }\n",
       "\n",
       "    .dataframe tbody tr th {\n",
       "        vertical-align: top;\n",
       "    }\n",
       "\n",
       "    .dataframe thead th {\n",
       "        text-align: right;\n",
       "    }\n",
       "</style>\n",
       "<table border=\"1\" class=\"dataframe\">\n",
       "  <thead>\n",
       "    <tr style=\"text-align: right;\">\n",
       "      <th></th>\n",
       "      <th>id</th>\n",
       "      <th>minute</th>\n",
       "      <th>result</th>\n",
       "      <th>X</th>\n",
       "      <th>Y</th>\n",
       "      <th>xG</th>\n",
       "      <th>player</th>\n",
       "      <th>h_a</th>\n",
       "      <th>player_id</th>\n",
       "      <th>situation</th>\n",
       "      <th>season</th>\n",
       "      <th>shotType</th>\n",
       "      <th>match_id</th>\n",
       "      <th>h_team</th>\n",
       "      <th>a_team</th>\n",
       "      <th>h_goals</th>\n",
       "      <th>a_goals</th>\n",
       "      <th>date</th>\n",
       "      <th>player_assisted</th>\n",
       "      <th>lastAction</th>\n",
       "    </tr>\n",
       "  </thead>\n",
       "  <tbody>\n",
       "    <tr>\n",
       "      <th>0</th>\n",
       "      <td>242611</td>\n",
       "      <td>2</td>\n",
       "      <td>MissedShots</td>\n",
       "      <td>0.936</td>\n",
       "      <td>0.534</td>\n",
       "      <td>0.107219</td>\n",
       "      <td>Ari</td>\n",
       "      <td>h</td>\n",
       "      <td>2930</td>\n",
       "      <td>OpenPlay</td>\n",
       "      <td>2018</td>\n",
       "      <td>Head</td>\n",
       "      <td>9071</td>\n",
       "      <td>FC Krasnodar</td>\n",
       "      <td>Ural</td>\n",
       "      <td>2</td>\n",
       "      <td>0</td>\n",
       "      <td>2018-12-02 11:00:00</td>\n",
       "      <td>Wanderson</td>\n",
       "      <td>Chipped</td>\n",
       "    </tr>\n",
       "    <tr>\n",
       "      <th>1</th>\n",
       "      <td>242612</td>\n",
       "      <td>4</td>\n",
       "      <td>SavedShot</td>\n",
       "      <td>0.806</td>\n",
       "      <td>0.707</td>\n",
       "      <td>0.021672</td>\n",
       "      <td>Cristian Ramírez</td>\n",
       "      <td>h</td>\n",
       "      <td>5477</td>\n",
       "      <td>OpenPlay</td>\n",
       "      <td>2018</td>\n",
       "      <td>LeftFoot</td>\n",
       "      <td>9071</td>\n",
       "      <td>FC Krasnodar</td>\n",
       "      <td>Ural</td>\n",
       "      <td>2</td>\n",
       "      <td>0</td>\n",
       "      <td>2018-12-02 11:00:00</td>\n",
       "      <td>NaN</td>\n",
       "      <td>None</td>\n",
       "    </tr>\n",
       "    <tr>\n",
       "      <th>2</th>\n",
       "      <td>242613</td>\n",
       "      <td>4</td>\n",
       "      <td>SavedShot</td>\n",
       "      <td>0.778</td>\n",
       "      <td>0.505</td>\n",
       "      <td>0.023818</td>\n",
       "      <td>Mauricio Pereyra</td>\n",
       "      <td>h</td>\n",
       "      <td>2922</td>\n",
       "      <td>OpenPlay</td>\n",
       "      <td>2018</td>\n",
       "      <td>RightFoot</td>\n",
       "      <td>9071</td>\n",
       "      <td>FC Krasnodar</td>\n",
       "      <td>Ural</td>\n",
       "      <td>2</td>\n",
       "      <td>0</td>\n",
       "      <td>2018-12-02 11:00:00</td>\n",
       "      <td>Viktor Claesson</td>\n",
       "      <td>Pass</td>\n",
       "    </tr>\n",
       "    <tr>\n",
       "      <th>3</th>\n",
       "      <td>242614</td>\n",
       "      <td>17</td>\n",
       "      <td>MissedShots</td>\n",
       "      <td>0.933</td>\n",
       "      <td>0.410</td>\n",
       "      <td>0.018640</td>\n",
       "      <td>Ari</td>\n",
       "      <td>h</td>\n",
       "      <td>2930</td>\n",
       "      <td>FromCorner</td>\n",
       "      <td>2018</td>\n",
       "      <td>Head</td>\n",
       "      <td>9071</td>\n",
       "      <td>FC Krasnodar</td>\n",
       "      <td>Ural</td>\n",
       "      <td>2</td>\n",
       "      <td>0</td>\n",
       "      <td>2018-12-02 11:00:00</td>\n",
       "      <td>Mauricio Pereyra</td>\n",
       "      <td>Aerial</td>\n",
       "    </tr>\n",
       "    <tr>\n",
       "      <th>4</th>\n",
       "      <td>242617</td>\n",
       "      <td>21</td>\n",
       "      <td>SavedShot</td>\n",
       "      <td>0.711</td>\n",
       "      <td>0.534</td>\n",
       "      <td>0.015957</td>\n",
       "      <td>Ivan Ignatyev</td>\n",
       "      <td>h</td>\n",
       "      <td>6025</td>\n",
       "      <td>OpenPlay</td>\n",
       "      <td>2018</td>\n",
       "      <td>RightFoot</td>\n",
       "      <td>9071</td>\n",
       "      <td>FC Krasnodar</td>\n",
       "      <td>Ural</td>\n",
       "      <td>2</td>\n",
       "      <td>0</td>\n",
       "      <td>2018-12-02 11:00:00</td>\n",
       "      <td>Ari</td>\n",
       "      <td>Pass</td>\n",
       "    </tr>\n",
       "  </tbody>\n",
       "</table>\n",
       "</div>"
      ],
      "text/plain": [
       "       id  minute       result      X      Y        xG            player h_a  \\\n",
       "0  242611       2  MissedShots  0.936  0.534  0.107219               Ari   h   \n",
       "1  242612       4    SavedShot  0.806  0.707  0.021672  Cristian Ramírez   h   \n",
       "2  242613       4    SavedShot  0.778  0.505  0.023818  Mauricio Pereyra   h   \n",
       "3  242614      17  MissedShots  0.933  0.410  0.018640               Ari   h   \n",
       "4  242617      21    SavedShot  0.711  0.534  0.015957     Ivan Ignatyev   h   \n",
       "\n",
       "   player_id   situation  season   shotType  match_id        h_team a_team  \\\n",
       "0       2930    OpenPlay    2018       Head      9071  FC Krasnodar   Ural   \n",
       "1       5477    OpenPlay    2018   LeftFoot      9071  FC Krasnodar   Ural   \n",
       "2       2922    OpenPlay    2018  RightFoot      9071  FC Krasnodar   Ural   \n",
       "3       2930  FromCorner    2018       Head      9071  FC Krasnodar   Ural   \n",
       "4       6025    OpenPlay    2018  RightFoot      9071  FC Krasnodar   Ural   \n",
       "\n",
       "   h_goals  a_goals                date   player_assisted lastAction  \n",
       "0        2        0 2018-12-02 11:00:00         Wanderson    Chipped  \n",
       "1        2        0 2018-12-02 11:00:00               NaN       None  \n",
       "2        2        0 2018-12-02 11:00:00   Viktor Claesson       Pass  \n",
       "3        2        0 2018-12-02 11:00:00  Mauricio Pereyra     Aerial  \n",
       "4        2        0 2018-12-02 11:00:00               Ari       Pass  "
      ]
     },
     "execution_count": 3,
     "metadata": {},
     "output_type": "execute_result"
    }
   ],
   "source": [
    "df.head()"
   ]
  },
  {
   "cell_type": "markdown",
   "metadata": {},
   "source": [
    "The data has quire a few columns related to shots"
   ]
  },
  {
   "cell_type": "code",
   "execution_count": 4,
   "metadata": {
    "scrolled": true
   },
   "outputs": [
    {
     "data": {
      "text/html": [
       "<div>\n",
       "<style scoped>\n",
       "    .dataframe tbody tr th:only-of-type {\n",
       "        vertical-align: middle;\n",
       "    }\n",
       "\n",
       "    .dataframe tbody tr th {\n",
       "        vertical-align: top;\n",
       "    }\n",
       "\n",
       "    .dataframe thead th {\n",
       "        text-align: right;\n",
       "    }\n",
       "</style>\n",
       "<table border=\"1\" class=\"dataframe\">\n",
       "  <thead>\n",
       "    <tr style=\"text-align: right;\">\n",
       "      <th></th>\n",
       "      <th>id</th>\n",
       "      <th>minute</th>\n",
       "      <th>X</th>\n",
       "      <th>Y</th>\n",
       "      <th>xG</th>\n",
       "      <th>player_id</th>\n",
       "      <th>season</th>\n",
       "      <th>match_id</th>\n",
       "      <th>h_goals</th>\n",
       "      <th>a_goals</th>\n",
       "    </tr>\n",
       "  </thead>\n",
       "  <tbody>\n",
       "    <tr>\n",
       "      <th>count</th>\n",
       "      <td>18.000000</td>\n",
       "      <td>18.000000</td>\n",
       "      <td>18.000000</td>\n",
       "      <td>18.000000</td>\n",
       "      <td>18.000000</td>\n",
       "      <td>18.000000</td>\n",
       "      <td>18.0</td>\n",
       "      <td>18.0</td>\n",
       "      <td>18.0</td>\n",
       "      <td>18.0</td>\n",
       "    </tr>\n",
       "    <tr>\n",
       "      <th>mean</th>\n",
       "      <td>242624.222222</td>\n",
       "      <td>43.777778</td>\n",
       "      <td>0.829333</td>\n",
       "      <td>0.477722</td>\n",
       "      <td>0.092411</td>\n",
       "      <td>4617.833333</td>\n",
       "      <td>2018.0</td>\n",
       "      <td>9071.0</td>\n",
       "      <td>2.0</td>\n",
       "      <td>0.0</td>\n",
       "    </tr>\n",
       "    <tr>\n",
       "      <th>std</th>\n",
       "      <td>8.243040</td>\n",
       "      <td>26.152394</td>\n",
       "      <td>0.085072</td>\n",
       "      <td>0.111548</td>\n",
       "      <td>0.134575</td>\n",
       "      <td>1613.053489</td>\n",
       "      <td>0.0</td>\n",
       "      <td>0.0</td>\n",
       "      <td>0.0</td>\n",
       "      <td>0.0</td>\n",
       "    </tr>\n",
       "    <tr>\n",
       "      <th>min</th>\n",
       "      <td>242611.000000</td>\n",
       "      <td>2.000000</td>\n",
       "      <td>0.685000</td>\n",
       "      <td>0.318000</td>\n",
       "      <td>0.013119</td>\n",
       "      <td>2790.000000</td>\n",
       "      <td>2018.0</td>\n",
       "      <td>9071.0</td>\n",
       "      <td>2.0</td>\n",
       "      <td>0.0</td>\n",
       "    </tr>\n",
       "    <tr>\n",
       "      <th>25%</th>\n",
       "      <td>242618.000000</td>\n",
       "      <td>23.500000</td>\n",
       "      <td>0.773500</td>\n",
       "      <td>0.391250</td>\n",
       "      <td>0.022168</td>\n",
       "      <td>2923.750000</td>\n",
       "      <td>2018.0</td>\n",
       "      <td>9071.0</td>\n",
       "      <td>2.0</td>\n",
       "      <td>0.0</td>\n",
       "    </tr>\n",
       "    <tr>\n",
       "      <th>50%</th>\n",
       "      <td>242625.500000</td>\n",
       "      <td>48.500000</td>\n",
       "      <td>0.801000</td>\n",
       "      <td>0.480000</td>\n",
       "      <td>0.045508</td>\n",
       "      <td>5477.000000</td>\n",
       "      <td>2018.0</td>\n",
       "      <td>9071.0</td>\n",
       "      <td>2.0</td>\n",
       "      <td>0.0</td>\n",
       "    </tr>\n",
       "    <tr>\n",
       "      <th>75%</th>\n",
       "      <td>242629.750000</td>\n",
       "      <td>63.250000</td>\n",
       "      <td>0.913500</td>\n",
       "      <td>0.526750</td>\n",
       "      <td>0.094991</td>\n",
       "      <td>5926.000000</td>\n",
       "      <td>2018.0</td>\n",
       "      <td>9071.0</td>\n",
       "      <td>2.0</td>\n",
       "      <td>0.0</td>\n",
       "    </tr>\n",
       "    <tr>\n",
       "      <th>max</th>\n",
       "      <td>242640.000000</td>\n",
       "      <td>87.000000</td>\n",
       "      <td>0.936000</td>\n",
       "      <td>0.733000</td>\n",
       "      <td>0.523555</td>\n",
       "      <td>6799.000000</td>\n",
       "      <td>2018.0</td>\n",
       "      <td>9071.0</td>\n",
       "      <td>2.0</td>\n",
       "      <td>0.0</td>\n",
       "    </tr>\n",
       "  </tbody>\n",
       "</table>\n",
       "</div>"
      ],
      "text/plain": [
       "                  id     minute          X          Y         xG    player_id  \\\n",
       "count      18.000000  18.000000  18.000000  18.000000  18.000000    18.000000   \n",
       "mean   242624.222222  43.777778   0.829333   0.477722   0.092411  4617.833333   \n",
       "std         8.243040  26.152394   0.085072   0.111548   0.134575  1613.053489   \n",
       "min    242611.000000   2.000000   0.685000   0.318000   0.013119  2790.000000   \n",
       "25%    242618.000000  23.500000   0.773500   0.391250   0.022168  2923.750000   \n",
       "50%    242625.500000  48.500000   0.801000   0.480000   0.045508  5477.000000   \n",
       "75%    242629.750000  63.250000   0.913500   0.526750   0.094991  5926.000000   \n",
       "max    242640.000000  87.000000   0.936000   0.733000   0.523555  6799.000000   \n",
       "\n",
       "       season  match_id  h_goals  a_goals  \n",
       "count    18.0      18.0     18.0     18.0  \n",
       "mean   2018.0    9071.0      2.0      0.0  \n",
       "std       0.0       0.0      0.0      0.0  \n",
       "min    2018.0    9071.0      2.0      0.0  \n",
       "25%    2018.0    9071.0      2.0      0.0  \n",
       "50%    2018.0    9071.0      2.0      0.0  \n",
       "75%    2018.0    9071.0      2.0      0.0  \n",
       "max    2018.0    9071.0      2.0      0.0  "
      ]
     },
     "execution_count": 4,
     "metadata": {},
     "output_type": "execute_result"
    }
   ],
   "source": [
    "df.describe()"
   ]
  },
  {
   "cell_type": "code",
   "execution_count": 5,
   "metadata": {},
   "outputs": [
    {
     "data": {
      "text/html": [
       "<div>\n",
       "<style scoped>\n",
       "    .dataframe tbody tr th:only-of-type {\n",
       "        vertical-align: middle;\n",
       "    }\n",
       "\n",
       "    .dataframe tbody tr th {\n",
       "        vertical-align: top;\n",
       "    }\n",
       "\n",
       "    .dataframe thead th {\n",
       "        text-align: right;\n",
       "    }\n",
       "</style>\n",
       "<table border=\"1\" class=\"dataframe\">\n",
       "  <thead>\n",
       "    <tr style=\"text-align: right;\">\n",
       "      <th></th>\n",
       "      <th>result</th>\n",
       "      <th>player</th>\n",
       "      <th>h_a</th>\n",
       "      <th>situation</th>\n",
       "      <th>shotType</th>\n",
       "      <th>h_team</th>\n",
       "      <th>a_team</th>\n",
       "      <th>player_assisted</th>\n",
       "      <th>lastAction</th>\n",
       "    </tr>\n",
       "  </thead>\n",
       "  <tbody>\n",
       "    <tr>\n",
       "      <th>count</th>\n",
       "      <td>18</td>\n",
       "      <td>18</td>\n",
       "      <td>18</td>\n",
       "      <td>18</td>\n",
       "      <td>18</td>\n",
       "      <td>18</td>\n",
       "      <td>18</td>\n",
       "      <td>12</td>\n",
       "      <td>18</td>\n",
       "    </tr>\n",
       "    <tr>\n",
       "      <th>unique</th>\n",
       "      <td>4</td>\n",
       "      <td>10</td>\n",
       "      <td>1</td>\n",
       "      <td>3</td>\n",
       "      <td>3</td>\n",
       "      <td>1</td>\n",
       "      <td>1</td>\n",
       "      <td>7</td>\n",
       "      <td>6</td>\n",
       "    </tr>\n",
       "    <tr>\n",
       "      <th>top</th>\n",
       "      <td>MissedShots</td>\n",
       "      <td>Magomed-Shapi Suleymanov</td>\n",
       "      <td>h</td>\n",
       "      <td>OpenPlay</td>\n",
       "      <td>RightFoot</td>\n",
       "      <td>FC Krasnodar</td>\n",
       "      <td>Ural</td>\n",
       "      <td>Viktor Claesson</td>\n",
       "      <td>Pass</td>\n",
       "    </tr>\n",
       "    <tr>\n",
       "      <th>freq</th>\n",
       "      <td>7</td>\n",
       "      <td>3</td>\n",
       "      <td>18</td>\n",
       "      <td>14</td>\n",
       "      <td>12</td>\n",
       "      <td>18</td>\n",
       "      <td>18</td>\n",
       "      <td>5</td>\n",
       "      <td>9</td>\n",
       "    </tr>\n",
       "  </tbody>\n",
       "</table>\n",
       "</div>"
      ],
      "text/plain": [
       "             result                    player h_a situation   shotType  \\\n",
       "count            18                        18  18        18         18   \n",
       "unique            4                        10   1         3          3   \n",
       "top     MissedShots  Magomed-Shapi Suleymanov   h  OpenPlay  RightFoot   \n",
       "freq              7                         3  18        14         12   \n",
       "\n",
       "              h_team a_team  player_assisted lastAction  \n",
       "count             18     18               12         18  \n",
       "unique             1      1                7          6  \n",
       "top     FC Krasnodar   Ural  Viktor Claesson       Pass  \n",
       "freq              18     18                5          9  "
      ]
     },
     "execution_count": 5,
     "metadata": {},
     "output_type": "execute_result"
    }
   ],
   "source": [
    "df.describe(include=['O'])"
   ]
  },
  {
   "cell_type": "markdown",
   "metadata": {},
   "source": [
    "The dataset has around 226,500 shots which aren't really a lot but enough to have a basic model running."
   ]
  },
  {
   "cell_type": "code",
   "execution_count": 6,
   "metadata": {
    "scrolled": false
   },
   "outputs": [
    {
     "data": {
      "text/plain": [
       "Index(['id', 'minute', 'result', 'X', 'Y', 'xG', 'player', 'h_a', 'player_id',\n",
       "       'situation', 'season', 'shotType', 'match_id', 'h_team', 'a_team',\n",
       "       'h_goals', 'a_goals', 'date', 'player_assisted', 'lastAction'],\n",
       "      dtype='object')"
      ]
     },
     "execution_count": 6,
     "metadata": {},
     "output_type": "execute_result"
    }
   ],
   "source": [
    "df.columns"
   ]
  },
  {
   "cell_type": "markdown",
   "metadata": {},
   "source": [
    "#### PRE-PROCESSING"
   ]
  },
  {
   "cell_type": "markdown",
   "metadata": {},
   "source": [
    "The X & Y co-ordinates present in the data are scaled from 0 to 1 so I had to find a suitable multipliying factor. The field was considered to be of dimensions of 104*76 yards.\n",
    "The co-ordinates were scaled acccordingly."
   ]
  },
  {
   "cell_type": "code",
   "execution_count": 7,
   "metadata": {},
   "outputs": [],
   "source": [
    "df['X'] = df['X']*104\n",
    "df['Y'] = df['Y']*76"
   ]
  },
  {
   "cell_type": "markdown",
   "metadata": {},
   "source": [
    "Let's try and plot the shot locations"
   ]
  },
  {
   "cell_type": "code",
   "execution_count": 16,
   "metadata": {},
   "outputs": [
    {
     "data": {
      "text/plain": [
       "<Figure size 432x288 with 0 Axes>"
      ]
     },
     "metadata": {},
     "output_type": "display_data"
    },
    {
     "data": {
      "image/png": "[encoded data removed]",
      "text/plain": [
       "<Figure size 1080x720 with 2 Axes>"
      ]
     },
     "metadata": {},
     "output_type": "display_data"
    }
   ],
   "source": [
    "import matplotlib.pyplot as plt\n",
    "from matplotlib.patches import Arc\n",
    "\n",
    "fig=plt.figure()\n",
    "# la siguiente linea estaba comentada en el codigo inicial\n",
    "# fig,ax = plt.subplots(figsize=(10.4,7.6))\n",
    "fig,ax = plt.subplots(figsize=(15,10))\n",
    "ax=fig.add_subplot(1,1,1)\n",
    "ax.axis('off')\n",
    "\n",
    "plt.plot([0,104],[0,0],color=\"black\")\n",
    "plt.plot([0,0],[76,0],color=\"black\")\n",
    "plt.plot([0,104],[76,76],color=\"black\")\n",
    "plt.plot([104,104],[76,0],color=\"black\")\n",
    "plt.plot([52,52],[0,76],color=\"black\")\n",
    "\n",
    "plt.plot([104,86.32],[60,60],color=\"black\")\n",
    "plt.plot([86.32,104],[16,16],color=\"black\")\n",
    "plt.plot([86.32,86.32],[60,16],color=\"black\")\n",
    "plt.plot([104,97.97],[48,48],color=\"black\")\n",
    "plt.plot([104,97.97],[27.968,27.968],color=\"black\")\n",
    "plt.plot([97.97,97.97],[48,27.968],color=\"black\")\n",
    "\n",
    "plt.plot([104,104],[34,42],color=\"red\")\n",
    "\n",
    "penaltySpot = plt.Circle((92.04,38),0.25,color=\"black\")\n",
    "centreSpot = plt.Circle((52,38),0.5,color=\"black\")\n",
    "centreCircle = plt.Circle((52,38),10,color=\"black\",fill=False)\n",
    "\n",
    "D = Arc((92.04,38),height=20,width=20,angle=0,theta1=125,theta2=235,color=\"black\")\n",
    "\n",
    "ax.add_patch(centreSpot)\n",
    "ax.add_patch(centreCircle)\n",
    "ax.add_patch(penaltySpot)\n",
    "ax.add_patch(D)\n",
    "\n",
    "\n",
    "plt.scatter(df['X'],df['Y'], s=df['xG']*300)\n",
    "plt.show()"
   ]
  },
  {
   "cell_type": "code",
   "execution_count": 9,
   "metadata": {},
   "outputs": [],
   "source": []
  },
  {
   "cell_type": "markdown",
   "metadata": {},
   "source": [
    "All the shots are when the team is attacking from right to left. The shots on the left end of the pitch are perhaps own goals that will have to be removed."
   ]
  },
  {
   "cell_type": "markdown",
   "metadata": {},
   "source": [
    "We know that distance is a major factor for shots to be converted into goals and thus I added a distance feature. The distance will be measured from the shot location to the centre of the goal."
   ]
  },
  {
   "cell_type": "code",
   "execution_count": 17,
   "metadata": {},
   "outputs": [],
   "source": [
    "df['distance'] = (((df['X']-104)**2 + (df['Y']-38)**2)**(1/2))"
   ]
  },
  {
   "cell_type": "markdown",
   "metadata": {},
   "source": [
    "Another important factor to be taken into account is the angle of view the striker has. A smaller angle will obviously minimize the chance of a shot being converted into a goal."
   ]
  },
  {
   "cell_type": "markdown",
   "metadata": {},
   "source": [
    "We use trigonometry to find the angle extended by both the goal posts onto the shot location.\n"
   ]
  },
  {
   "cell_type": "markdown",
   "metadata": {},
   "source": [
    "\n",
    "cos c = (A^2+B^2-C^2)/2*A*B"
   ]
  },
  {
   "cell_type": "code",
   "execution_count": 10,
   "metadata": {},
   "outputs": [
    {
     "data": {
      "image/png": "[encoded data removed]",
      "text/plain": [
       "<Figure size 432x288 with 1 Axes>"
      ]
     },
     "metadata": {},
     "output_type": "display_data"
    }
   ],
   "source": [
    "import matplotlib.pyplot as plt\n",
    "import matplotlib.image as mpimg\n",
    "image = mpimg.imread(\"angle.jpg\")\n",
    "plt.imshow(image)\n",
    "plt.axis('off')\n",
    "plt.show()"
   ]
  },
  {
   "cell_type": "markdown",
   "metadata": {},
   "source": [
    "Pardon my paint skills, but the diagram above explains the angle c we are trying to find. The Red Dot is the shot location and the rectangle on the right is the goalmouth."
   ]
  },
  {
   "cell_type": "markdown",
   "metadata": {},
   "source": [
    "Below, I find the distance between the goal posts and the shot location and use it to find the angle extended by the goal onto the shot location."
   ]
  },
  {
   "cell_type": "code",
   "execution_count": 18,
   "metadata": {},
   "outputs": [],
   "source": [
    "import math\n",
    "temp = pd.DataFrame()\n",
    "temp['a'] = ((df['X']-104)**2 + (df['Y']-42)**2)\n",
    "temp['b'] = ((df['X']-104)**2 + (df['Y']-34)**2)\n",
    "df['angle'] = (temp['a']+temp['b']-144)/(2*temp['a']*temp['b'])\n",
    "df['angle'] = df['angle'].apply(math.acos)"
   ]
  },
  {
   "cell_type": "markdown",
   "metadata": {},
   "source": [
    "Distance and Angle have been added as columns to the DataFrame."
   ]
  },
  {
   "cell_type": "code",
   "execution_count": 19,
   "metadata": {
    "scrolled": true
   },
   "outputs": [
    {
     "data": {
      "text/plain": [
       "Index(['id', 'minute', 'result', 'X', 'Y', 'xG', 'player', 'h_a', 'player_id',\n",
       "       'situation', 'season', 'shotType', 'match_id', 'h_team', 'a_team',\n",
       "       'h_goals', 'a_goals', 'date', 'player_assisted', 'lastAction',\n",
       "       'distance', 'angle'],\n",
       "      dtype='object')"
      ]
     },
     "execution_count": 19,
     "metadata": {},
     "output_type": "execute_result"
    }
   ],
   "source": [
    "df.columns"
   ]
  },
  {
   "cell_type": "markdown",
   "metadata": {},
   "source": [
    "Since the columns in the categs list are actually categories, we convert them into categories."
   ]
  },
  {
   "cell_type": "code",
   "execution_count": 20,
   "metadata": {},
   "outputs": [],
   "source": [
    "categs = ['lastAction','result','shotType', 'situation']\n",
    "for categ in categs:\n",
    "    df[categ] = df[categ].astype('category')"
   ]
  },
  {
   "cell_type": "markdown",
   "metadata": {},
   "source": [
    "Let us have a look at the categories for each specific feature."
   ]
  },
  {
   "cell_type": "code",
   "execution_count": 21,
   "metadata": {
    "scrolled": true
   },
   "outputs": [
    {
     "name": "stdout",
     "output_type": "stream",
     "text": [
      "lastAction\n",
      "Index(['Aerial', 'Chipped', 'Cross', 'None', 'Pass', 'Standard'], dtype='object')\n",
      "result\n",
      "Index(['BlockedShot', 'Goal', 'MissedShots', 'SavedShot'], dtype='object')\n",
      "shotType\n",
      "Index(['Head', 'LeftFoot', 'RightFoot'], dtype='object')\n",
      "situation\n",
      "Index(['DirectFreekick', 'FromCorner', 'OpenPlay'], dtype='object')\n"
     ]
    }
   ],
   "source": [
    "for categ in categs:\n",
    "    print(categ)\n",
    "    print(df[categ].cat.categories)"
   ]
  },
  {
   "cell_type": "markdown",
   "metadata": {},
   "source": [
    "Before we can train the model, we need to remove any OwnGoals that might spoil the model and thus, we do so."
   ]
  },
  {
   "cell_type": "code",
   "execution_count": 22,
   "metadata": {},
   "outputs": [],
   "source": [
    "df = df[df['result'] != 'OwnGoal']"
   ]
  },
  {
   "cell_type": "markdown",
   "metadata": {},
   "source": [
    "Introducing a binary column by the name of Goal."
   ]
  },
  {
   "cell_type": "code",
   "execution_count": 23,
   "metadata": {},
   "outputs": [],
   "source": [
    "df['goal']  = (df['result'] == 'Goal')"
   ]
  },
  {
   "cell_type": "code",
   "execution_count": 24,
   "metadata": {},
   "outputs": [
    {
     "data": {
      "text/html": [
       "<div>\n",
       "<style scoped>\n",
       "    .dataframe tbody tr th:only-of-type {\n",
       "        vertical-align: middle;\n",
       "    }\n",
       "\n",
       "    .dataframe tbody tr th {\n",
       "        vertical-align: top;\n",
       "    }\n",
       "\n",
       "    .dataframe thead th {\n",
       "        text-align: right;\n",
       "    }\n",
       "</style>\n",
       "<table border=\"1\" class=\"dataframe\">\n",
       "  <thead>\n",
       "    <tr style=\"text-align: right;\">\n",
       "      <th></th>\n",
       "      <th>id</th>\n",
       "      <th>minute</th>\n",
       "      <th>result</th>\n",
       "      <th>X</th>\n",
       "      <th>Y</th>\n",
       "      <th>xG</th>\n",
       "      <th>player</th>\n",
       "      <th>h_a</th>\n",
       "      <th>player_id</th>\n",
       "      <th>situation</th>\n",
       "      <th>...</th>\n",
       "      <th>h_team</th>\n",
       "      <th>a_team</th>\n",
       "      <th>h_goals</th>\n",
       "      <th>a_goals</th>\n",
       "      <th>date</th>\n",
       "      <th>player_assisted</th>\n",
       "      <th>lastAction</th>\n",
       "      <th>distance</th>\n",
       "      <th>angle</th>\n",
       "      <th>goal</th>\n",
       "    </tr>\n",
       "  </thead>\n",
       "  <tbody>\n",
       "    <tr>\n",
       "      <th>0</th>\n",
       "      <td>242611</td>\n",
       "      <td>2</td>\n",
       "      <td>MissedShots</td>\n",
       "      <td>97.343998</td>\n",
       "      <td>40.584001</td>\n",
       "      <td>0.107219</td>\n",
       "      <td>Ari</td>\n",
       "      <td>h</td>\n",
       "      <td>2930</td>\n",
       "      <td>OpenPlay</td>\n",
       "      <td>...</td>\n",
       "      <td>FC Krasnodar</td>\n",
       "      <td>Ural</td>\n",
       "      <td>2</td>\n",
       "      <td>0</td>\n",
       "      <td>2018-12-02 11:00:00</td>\n",
       "      <td>Wanderson</td>\n",
       "      <td>Chipped</td>\n",
       "      <td>7.139987</td>\n",
       "      <td>1.572033</td>\n",
       "      <td>False</td>\n",
       "    </tr>\n",
       "    <tr>\n",
       "      <th>1</th>\n",
       "      <td>242612</td>\n",
       "      <td>4</td>\n",
       "      <td>SavedShot</td>\n",
       "      <td>83.823998</td>\n",
       "      <td>53.731998</td>\n",
       "      <td>0.021672</td>\n",
       "      <td>Cristian Ramírez</td>\n",
       "      <td>h</td>\n",
       "      <td>5477</td>\n",
       "      <td>OpenPlay</td>\n",
       "      <td>...</td>\n",
       "      <td>FC Krasnodar</td>\n",
       "      <td>Ural</td>\n",
       "      <td>2</td>\n",
       "      <td>0</td>\n",
       "      <td>2018-12-02 11:00:00</td>\n",
       "      <td>NaN</td>\n",
       "      <td>None</td>\n",
       "      <td>25.584503</td>\n",
       "      <td>1.569417</td>\n",
       "      <td>False</td>\n",
       "    </tr>\n",
       "    <tr>\n",
       "      <th>2</th>\n",
       "      <td>242613</td>\n",
       "      <td>4</td>\n",
       "      <td>SavedShot</td>\n",
       "      <td>80.912003</td>\n",
       "      <td>38.380000</td>\n",
       "      <td>0.023818</td>\n",
       "      <td>Mauricio Pereyra</td>\n",
       "      <td>h</td>\n",
       "      <td>2922</td>\n",
       "      <td>OpenPlay</td>\n",
       "      <td>...</td>\n",
       "      <td>FC Krasnodar</td>\n",
       "      <td>Ural</td>\n",
       "      <td>2</td>\n",
       "      <td>0</td>\n",
       "      <td>2018-12-02 11:00:00</td>\n",
       "      <td>Viktor Claesson</td>\n",
       "      <td>Pass</td>\n",
       "      <td>23.091124</td>\n",
       "      <td>1.569214</td>\n",
       "      <td>False</td>\n",
       "    </tr>\n",
       "    <tr>\n",
       "      <th>3</th>\n",
       "      <td>242614</td>\n",
       "      <td>17</td>\n",
       "      <td>MissedShots</td>\n",
       "      <td>97.032003</td>\n",
       "      <td>31.160000</td>\n",
       "      <td>0.018640</td>\n",
       "      <td>Ari</td>\n",
       "      <td>h</td>\n",
       "      <td>2930</td>\n",
       "      <td>FromCorner</td>\n",
       "      <td>...</td>\n",
       "      <td>FC Krasnodar</td>\n",
       "      <td>Ural</td>\n",
       "      <td>2</td>\n",
       "      <td>0</td>\n",
       "      <td>2018-12-02 11:00:00</td>\n",
       "      <td>Mauricio Pereyra</td>\n",
       "      <td>Aerial</td>\n",
       "      <td>9.764148</td>\n",
       "      <td>1.566612</td>\n",
       "      <td>False</td>\n",
       "    </tr>\n",
       "    <tr>\n",
       "      <th>4</th>\n",
       "      <td>242617</td>\n",
       "      <td>21</td>\n",
       "      <td>SavedShot</td>\n",
       "      <td>73.943998</td>\n",
       "      <td>40.584001</td>\n",
       "      <td>0.015957</td>\n",
       "      <td>Ivan Ignatyev</td>\n",
       "      <td>h</td>\n",
       "      <td>6025</td>\n",
       "      <td>OpenPlay</td>\n",
       "      <td>...</td>\n",
       "      <td>FC Krasnodar</td>\n",
       "      <td>Ural</td>\n",
       "      <td>2</td>\n",
       "      <td>0</td>\n",
       "      <td>2018-12-02 11:00:00</td>\n",
       "      <td>Ari</td>\n",
       "      <td>Pass</td>\n",
       "      <td>30.166874</td>\n",
       "      <td>1.569800</td>\n",
       "      <td>False</td>\n",
       "    </tr>\n",
       "  </tbody>\n",
       "</table>\n",
       "<p>5 rows × 23 columns</p>\n",
       "</div>"
      ],
      "text/plain": [
       "       id  minute       result          X          Y        xG  \\\n",
       "0  242611       2  MissedShots  97.343998  40.584001  0.107219   \n",
       "1  242612       4    SavedShot  83.823998  53.731998  0.021672   \n",
       "2  242613       4    SavedShot  80.912003  38.380000  0.023818   \n",
       "3  242614      17  MissedShots  97.032003  31.160000  0.018640   \n",
       "4  242617      21    SavedShot  73.943998  40.584001  0.015957   \n",
       "\n",
       "             player h_a  player_id   situation  ...          h_team a_team  \\\n",
       "0               Ari   h       2930    OpenPlay  ...    FC Krasnodar   Ural   \n",
       "1  Cristian Ramírez   h       5477    OpenPlay  ...    FC Krasnodar   Ural   \n",
       "2  Mauricio Pereyra   h       2922    OpenPlay  ...    FC Krasnodar   Ural   \n",
       "3               Ari   h       2930  FromCorner  ...    FC Krasnodar   Ural   \n",
       "4     Ivan Ignatyev   h       6025    OpenPlay  ...    FC Krasnodar   Ural   \n",
       "\n",
       "   h_goals a_goals                date   player_assisted  lastAction  \\\n",
       "0        2       0 2018-12-02 11:00:00         Wanderson     Chipped   \n",
       "1        2       0 2018-12-02 11:00:00               NaN        None   \n",
       "2        2       0 2018-12-02 11:00:00   Viktor Claesson        Pass   \n",
       "3        2       0 2018-12-02 11:00:00  Mauricio Pereyra      Aerial   \n",
       "4        2       0 2018-12-02 11:00:00               Ari        Pass   \n",
       "\n",
       "    distance     angle   goal  \n",
       "0   7.139987  1.572033  False  \n",
       "1  25.584503  1.569417  False  \n",
       "2  23.091124  1.569214  False  \n",
       "3   9.764148  1.566612  False  \n",
       "4  30.166874  1.569800  False  \n",
       "\n",
       "[5 rows x 23 columns]"
      ]
     },
     "execution_count": 24,
     "metadata": {},
     "output_type": "execute_result"
    }
   ],
   "source": [
    "df.head()"
   ]
  },
  {
   "cell_type": "markdown",
   "metadata": {},
   "source": [
    "One Hot Encoding for the situation column is done in the DataFrame so that Logistic Regression might not misinterpret the situations as something of different weightages.\n",
    "\n",
    "LabelBinarizer from sklearn is used to carry out the one hot encoding."
   ]
  },
  {
   "cell_type": "code",
   "execution_count": 25,
   "metadata": {},
   "outputs": [
    {
     "data": {
      "text/plain": [
       "LabelBinarizer(neg_label=0, pos_label=1, sparse_output=False)"
      ]
     },
     "execution_count": 25,
     "metadata": {},
     "output_type": "execute_result"
    }
   ],
   "source": [
    "from sklearn.preprocessing import LabelBinarizer\n",
    "le = LabelBinarizer()\n",
    "le.fit(df['situation'])"
   ]
  },
  {
   "cell_type": "code",
   "execution_count": 26,
   "metadata": {},
   "outputs": [],
   "source": [
    "temp = le.transform(df['situation'])"
   ]
  },
  {
   "cell_type": "code",
   "execution_count": 27,
   "metadata": {},
   "outputs": [
    {
     "data": {
      "text/plain": [
       "array(['DirectFreekick', 'FromCorner', 'OpenPlay'], dtype='<U14')"
      ]
     },
     "execution_count": 27,
     "metadata": {},
     "output_type": "execute_result"
    }
   ],
   "source": [
    "le.classes_"
   ]
  },
  {
   "cell_type": "code",
   "execution_count": 28,
   "metadata": {},
   "outputs": [],
   "source": [
    "for i in range(0,len(le.classes_)):\n",
    "    df['is'+le.classes_[i]] = temp[:,i]"
   ]
  },
  {
   "cell_type": "markdown",
   "metadata": {},
   "source": [
    "One Hot Encoding of situation column introduces the binary columns isDirectFreekick, isFromCorner, isOpenPlay, isPenalty, isSetPiece."
   ]
  },
  {
   "cell_type": "markdown",
   "metadata": {},
   "source": [
    "One Hot Encoding of the shotType column is also done. Columns fromHead, fromLeftFoot, fromOtherBodyPart, fromRightFoot are introduced into tahe dataframe, again with the help of the LabelBinarizer function in the sklearn library."
   ]
  },
  {
   "cell_type": "code",
   "execution_count": 29,
   "metadata": {},
   "outputs": [],
   "source": [
    "le.fit(df['shotType'])\n",
    "temp = le.transform(df['shotType'])"
   ]
  },
  {
   "cell_type": "code",
   "execution_count": 30,
   "metadata": {},
   "outputs": [
    {
     "data": {
      "text/plain": [
       "array(['Head', 'LeftFoot', 'RightFoot'], dtype='<U9')"
      ]
     },
     "execution_count": 30,
     "metadata": {},
     "output_type": "execute_result"
    }
   ],
   "source": [
    "le.classes_"
   ]
  },
  {
   "cell_type": "code",
   "execution_count": 31,
   "metadata": {},
   "outputs": [],
   "source": [
    "for i in range(0,len(le.classes_)):\n",
    "    df['from'+le.classes_[i]] = temp[:,i]"
   ]
  },
  {
   "cell_type": "markdown",
   "metadata": {},
   "source": [
    "Let's look at how the dataset looks like now:"
   ]
  },
  {
   "cell_type": "code",
   "execution_count": 32,
   "metadata": {},
   "outputs": [
    {
     "data": {
      "text/html": [
       "<div>\n",
       "<style scoped>\n",
       "    .dataframe tbody tr th:only-of-type {\n",
       "        vertical-align: middle;\n",
       "    }\n",
       "\n",
       "    .dataframe tbody tr th {\n",
       "        vertical-align: top;\n",
       "    }\n",
       "\n",
       "    .dataframe thead th {\n",
       "        text-align: right;\n",
       "    }\n",
       "</style>\n",
       "<table border=\"1\" class=\"dataframe\">\n",
       "  <thead>\n",
       "    <tr style=\"text-align: right;\">\n",
       "      <th></th>\n",
       "      <th>id</th>\n",
       "      <th>minute</th>\n",
       "      <th>result</th>\n",
       "      <th>X</th>\n",
       "      <th>Y</th>\n",
       "      <th>xG</th>\n",
       "      <th>player</th>\n",
       "      <th>h_a</th>\n",
       "      <th>player_id</th>\n",
       "      <th>situation</th>\n",
       "      <th>...</th>\n",
       "      <th>lastAction</th>\n",
       "      <th>distance</th>\n",
       "      <th>angle</th>\n",
       "      <th>goal</th>\n",
       "      <th>isDirectFreekick</th>\n",
       "      <th>isFromCorner</th>\n",
       "      <th>isOpenPlay</th>\n",
       "      <th>fromHead</th>\n",
       "      <th>fromLeftFoot</th>\n",
       "      <th>fromRightFoot</th>\n",
       "    </tr>\n",
       "  </thead>\n",
       "  <tbody>\n",
       "    <tr>\n",
       "      <th>0</th>\n",
       "      <td>242611</td>\n",
       "      <td>2</td>\n",
       "      <td>MissedShots</td>\n",
       "      <td>97.343998</td>\n",
       "      <td>40.584001</td>\n",
       "      <td>0.107219</td>\n",
       "      <td>Ari</td>\n",
       "      <td>h</td>\n",
       "      <td>2930</td>\n",
       "      <td>OpenPlay</td>\n",
       "      <td>...</td>\n",
       "      <td>Chipped</td>\n",
       "      <td>7.139987</td>\n",
       "      <td>1.572033</td>\n",
       "      <td>False</td>\n",
       "      <td>0</td>\n",
       "      <td>0</td>\n",
       "      <td>1</td>\n",
       "      <td>1</td>\n",
       "      <td>0</td>\n",
       "      <td>0</td>\n",
       "    </tr>\n",
       "    <tr>\n",
       "      <th>1</th>\n",
       "      <td>242612</td>\n",
       "      <td>4</td>\n",
       "      <td>SavedShot</td>\n",
       "      <td>83.823998</td>\n",
       "      <td>53.731998</td>\n",
       "      <td>0.021672</td>\n",
       "      <td>Cristian Ramírez</td>\n",
       "      <td>h</td>\n",
       "      <td>5477</td>\n",
       "      <td>OpenPlay</td>\n",
       "      <td>...</td>\n",
       "      <td>None</td>\n",
       "      <td>25.584503</td>\n",
       "      <td>1.569417</td>\n",
       "      <td>False</td>\n",
       "      <td>0</td>\n",
       "      <td>0</td>\n",
       "      <td>1</td>\n",
       "      <td>0</td>\n",
       "      <td>1</td>\n",
       "      <td>0</td>\n",
       "    </tr>\n",
       "    <tr>\n",
       "      <th>2</th>\n",
       "      <td>242613</td>\n",
       "      <td>4</td>\n",
       "      <td>SavedShot</td>\n",
       "      <td>80.912003</td>\n",
       "      <td>38.380000</td>\n",
       "      <td>0.023818</td>\n",
       "      <td>Mauricio Pereyra</td>\n",
       "      <td>h</td>\n",
       "      <td>2922</td>\n",
       "      <td>OpenPlay</td>\n",
       "      <td>...</td>\n",
       "      <td>Pass</td>\n",
       "      <td>23.091124</td>\n",
       "      <td>1.569214</td>\n",
       "      <td>False</td>\n",
       "      <td>0</td>\n",
       "      <td>0</td>\n",
       "      <td>1</td>\n",
       "      <td>0</td>\n",
       "      <td>0</td>\n",
       "      <td>1</td>\n",
       "    </tr>\n",
       "    <tr>\n",
       "      <th>3</th>\n",
       "      <td>242614</td>\n",
       "      <td>17</td>\n",
       "      <td>MissedShots</td>\n",
       "      <td>97.032003</td>\n",
       "      <td>31.160000</td>\n",
       "      <td>0.018640</td>\n",
       "      <td>Ari</td>\n",
       "      <td>h</td>\n",
       "      <td>2930</td>\n",
       "      <td>FromCorner</td>\n",
       "      <td>...</td>\n",
       "      <td>Aerial</td>\n",
       "      <td>9.764148</td>\n",
       "      <td>1.566612</td>\n",
       "      <td>False</td>\n",
       "      <td>0</td>\n",
       "      <td>1</td>\n",
       "      <td>0</td>\n",
       "      <td>1</td>\n",
       "      <td>0</td>\n",
       "      <td>0</td>\n",
       "    </tr>\n",
       "    <tr>\n",
       "      <th>4</th>\n",
       "      <td>242617</td>\n",
       "      <td>21</td>\n",
       "      <td>SavedShot</td>\n",
       "      <td>73.943998</td>\n",
       "      <td>40.584001</td>\n",
       "      <td>0.015957</td>\n",
       "      <td>Ivan Ignatyev</td>\n",
       "      <td>h</td>\n",
       "      <td>6025</td>\n",
       "      <td>OpenPlay</td>\n",
       "      <td>...</td>\n",
       "      <td>Pass</td>\n",
       "      <td>30.166874</td>\n",
       "      <td>1.569800</td>\n",
       "      <td>False</td>\n",
       "      <td>0</td>\n",
       "      <td>0</td>\n",
       "      <td>1</td>\n",
       "      <td>0</td>\n",
       "      <td>0</td>\n",
       "      <td>1</td>\n",
       "    </tr>\n",
       "    <tr>\n",
       "      <th>5</th>\n",
       "      <td>242621</td>\n",
       "      <td>31</td>\n",
       "      <td>MissedShots</td>\n",
       "      <td>82.783998</td>\n",
       "      <td>35.264001</td>\n",
       "      <td>0.038981</td>\n",
       "      <td>Viktor Claesson</td>\n",
       "      <td>h</td>\n",
       "      <td>5478</td>\n",
       "      <td>OpenPlay</td>\n",
       "      <td>...</td>\n",
       "      <td>None</td>\n",
       "      <td>21.391690</td>\n",
       "      <td>1.569002</td>\n",
       "      <td>False</td>\n",
       "      <td>0</td>\n",
       "      <td>0</td>\n",
       "      <td>1</td>\n",
       "      <td>0</td>\n",
       "      <td>0</td>\n",
       "      <td>1</td>\n",
       "    </tr>\n",
       "    <tr>\n",
       "      <th>6</th>\n",
       "      <td>242622</td>\n",
       "      <td>36</td>\n",
       "      <td>MissedShots</td>\n",
       "      <td>78.936002</td>\n",
       "      <td>26.675999</td>\n",
       "      <td>0.052374</td>\n",
       "      <td>Mauricio Pereyra</td>\n",
       "      <td>h</td>\n",
       "      <td>2922</td>\n",
       "      <td>DirectFreekick</td>\n",
       "      <td>...</td>\n",
       "      <td>Standard</td>\n",
       "      <td>27.503400</td>\n",
       "      <td>1.569606</td>\n",
       "      <td>False</td>\n",
       "      <td>1</td>\n",
       "      <td>0</td>\n",
       "      <td>0</td>\n",
       "      <td>0</td>\n",
       "      <td>1</td>\n",
       "      <td>0</td>\n",
       "    </tr>\n",
       "    <tr>\n",
       "      <th>7</th>\n",
       "      <td>242624</td>\n",
       "      <td>42</td>\n",
       "      <td>BlockedShot</td>\n",
       "      <td>95.576002</td>\n",
       "      <td>28.120000</td>\n",
       "      <td>0.108435</td>\n",
       "      <td>Sergei Petrov</td>\n",
       "      <td>h</td>\n",
       "      <td>2920</td>\n",
       "      <td>OpenPlay</td>\n",
       "      <td>...</td>\n",
       "      <td>Pass</td>\n",
       "      <td>12.983765</td>\n",
       "      <td>1.566750</td>\n",
       "      <td>False</td>\n",
       "      <td>0</td>\n",
       "      <td>0</td>\n",
       "      <td>1</td>\n",
       "      <td>0</td>\n",
       "      <td>0</td>\n",
       "      <td>1</td>\n",
       "    </tr>\n",
       "    <tr>\n",
       "      <th>8</th>\n",
       "      <td>242625</td>\n",
       "      <td>48</td>\n",
       "      <td>MissedShots</td>\n",
       "      <td>80.287997</td>\n",
       "      <td>29.260000</td>\n",
       "      <td>0.023656</td>\n",
       "      <td>Aleksandr Martynovich</td>\n",
       "      <td>h</td>\n",
       "      <td>2790</td>\n",
       "      <td>OpenPlay</td>\n",
       "      <td>...</td>\n",
       "      <td>Pass</td>\n",
       "      <td>25.271460</td>\n",
       "      <td>1.569421</td>\n",
       "      <td>False</td>\n",
       "      <td>0</td>\n",
       "      <td>0</td>\n",
       "      <td>1</td>\n",
       "      <td>0</td>\n",
       "      <td>0</td>\n",
       "      <td>1</td>\n",
       "    </tr>\n",
       "    <tr>\n",
       "      <th>9</th>\n",
       "      <td>242626</td>\n",
       "      <td>49</td>\n",
       "      <td>MissedShots</td>\n",
       "      <td>74.463998</td>\n",
       "      <td>37.087999</td>\n",
       "      <td>0.013119</td>\n",
       "      <td>Yuri Gazinskiy</td>\n",
       "      <td>h</td>\n",
       "      <td>2929</td>\n",
       "      <td>OpenPlay</td>\n",
       "      <td>...</td>\n",
       "      <td>Pass</td>\n",
       "      <td>29.550078</td>\n",
       "      <td>1.569763</td>\n",
       "      <td>False</td>\n",
       "      <td>0</td>\n",
       "      <td>0</td>\n",
       "      <td>1</td>\n",
       "      <td>0</td>\n",
       "      <td>0</td>\n",
       "      <td>1</td>\n",
       "    </tr>\n",
       "    <tr>\n",
       "      <th>10</th>\n",
       "      <td>242627</td>\n",
       "      <td>54</td>\n",
       "      <td>BlockedShot</td>\n",
       "      <td>94.536002</td>\n",
       "      <td>26.827999</td>\n",
       "      <td>0.094004</td>\n",
       "      <td>Magomed-Shapi Suleymanov</td>\n",
       "      <td>h</td>\n",
       "      <td>5926</td>\n",
       "      <td>OpenPlay</td>\n",
       "      <td>...</td>\n",
       "      <td>Pass</td>\n",
       "      <td>14.641751</td>\n",
       "      <td>1.567284</td>\n",
       "      <td>False</td>\n",
       "      <td>0</td>\n",
       "      <td>0</td>\n",
       "      <td>1</td>\n",
       "      <td>0</td>\n",
       "      <td>0</td>\n",
       "      <td>1</td>\n",
       "    </tr>\n",
       "    <tr>\n",
       "      <th>11</th>\n",
       "      <td>242628</td>\n",
       "      <td>54</td>\n",
       "      <td>BlockedShot</td>\n",
       "      <td>92.143998</td>\n",
       "      <td>24.167999</td>\n",
       "      <td>0.061035</td>\n",
       "      <td>Magomed-Shapi Suleymanov</td>\n",
       "      <td>h</td>\n",
       "      <td>5926</td>\n",
       "      <td>OpenPlay</td>\n",
       "      <td>...</td>\n",
       "      <td>Pass</td>\n",
       "      <td>18.217821</td>\n",
       "      <td>1.568260</td>\n",
       "      <td>False</td>\n",
       "      <td>0</td>\n",
       "      <td>0</td>\n",
       "      <td>1</td>\n",
       "      <td>0</td>\n",
       "      <td>1</td>\n",
       "      <td>0</td>\n",
       "    </tr>\n",
       "    <tr>\n",
       "      <th>12</th>\n",
       "      <td>242629</td>\n",
       "      <td>55</td>\n",
       "      <td>Goal</td>\n",
       "      <td>96.407997</td>\n",
       "      <td>34.960000</td>\n",
       "      <td>0.523555</td>\n",
       "      <td>Magomed-Shapi Suleymanov</td>\n",
       "      <td>h</td>\n",
       "      <td>5926</td>\n",
       "      <td>OpenPlay</td>\n",
       "      <td>...</td>\n",
       "      <td>Pass</td>\n",
       "      <td>8.178026</td>\n",
       "      <td>1.569063</td>\n",
       "      <td>True</td>\n",
       "      <td>0</td>\n",
       "      <td>0</td>\n",
       "      <td>1</td>\n",
       "      <td>0</td>\n",
       "      <td>0</td>\n",
       "      <td>1</td>\n",
       "    </tr>\n",
       "    <tr>\n",
       "      <th>13</th>\n",
       "      <td>242630</td>\n",
       "      <td>66</td>\n",
       "      <td>MissedShots</td>\n",
       "      <td>95.160000</td>\n",
       "      <td>41.192001</td>\n",
       "      <td>0.363155</td>\n",
       "      <td>Christian Cueva</td>\n",
       "      <td>h</td>\n",
       "      <td>6799</td>\n",
       "      <td>OpenPlay</td>\n",
       "      <td>...</td>\n",
       "      <td>Cross</td>\n",
       "      <td>9.398642</td>\n",
       "      <td>1.567637</td>\n",
       "      <td>False</td>\n",
       "      <td>0</td>\n",
       "      <td>0</td>\n",
       "      <td>1</td>\n",
       "      <td>0</td>\n",
       "      <td>0</td>\n",
       "      <td>1</td>\n",
       "    </tr>\n",
       "    <tr>\n",
       "      <th>14</th>\n",
       "      <td>242631</td>\n",
       "      <td>71</td>\n",
       "      <td>BlockedShot</td>\n",
       "      <td>71.240000</td>\n",
       "      <td>36.860000</td>\n",
       "      <td>0.031886</td>\n",
       "      <td>Cristian Ramírez</td>\n",
       "      <td>h</td>\n",
       "      <td>5477</td>\n",
       "      <td>DirectFreekick</td>\n",
       "      <td>...</td>\n",
       "      <td>Standard</td>\n",
       "      <td>32.779829</td>\n",
       "      <td>1.569940</td>\n",
       "      <td>False</td>\n",
       "      <td>1</td>\n",
       "      <td>0</td>\n",
       "      <td>0</td>\n",
       "      <td>0</td>\n",
       "      <td>1</td>\n",
       "      <td>0</td>\n",
       "    </tr>\n",
       "    <tr>\n",
       "      <th>15</th>\n",
       "      <td>242632</td>\n",
       "      <td>72</td>\n",
       "      <td>BlockedShot</td>\n",
       "      <td>92.663998</td>\n",
       "      <td>36.555999</td>\n",
       "      <td>0.095320</td>\n",
       "      <td>Sergei Petrov</td>\n",
       "      <td>h</td>\n",
       "      <td>2920</td>\n",
       "      <td>FromCorner</td>\n",
       "      <td>...</td>\n",
       "      <td>None</td>\n",
       "      <td>11.427601</td>\n",
       "      <td>1.567303</td>\n",
       "      <td>False</td>\n",
       "      <td>0</td>\n",
       "      <td>1</td>\n",
       "      <td>0</td>\n",
       "      <td>0</td>\n",
       "      <td>0</td>\n",
       "      <td>1</td>\n",
       "    </tr>\n",
       "    <tr>\n",
       "      <th>16</th>\n",
       "      <td>242634</td>\n",
       "      <td>75</td>\n",
       "      <td>Goal</td>\n",
       "      <td>82.576002</td>\n",
       "      <td>36.404001</td>\n",
       "      <td>0.052035</td>\n",
       "      <td>Ivan Ignatyev</td>\n",
       "      <td>h</td>\n",
       "      <td>6025</td>\n",
       "      <td>OpenPlay</td>\n",
       "      <td>...</td>\n",
       "      <td>None</td>\n",
       "      <td>21.483364</td>\n",
       "      <td>1.569017</td>\n",
       "      <td>True</td>\n",
       "      <td>0</td>\n",
       "      <td>0</td>\n",
       "      <td>1</td>\n",
       "      <td>0</td>\n",
       "      <td>0</td>\n",
       "      <td>1</td>\n",
       "    </tr>\n",
       "    <tr>\n",
       "      <th>17</th>\n",
       "      <td>242640</td>\n",
       "      <td>87</td>\n",
       "      <td>BlockedShot</td>\n",
       "      <td>82.680000</td>\n",
       "      <td>55.708002</td>\n",
       "      <td>0.018532</td>\n",
       "      <td>Christian Cueva</td>\n",
       "      <td>h</td>\n",
       "      <td>6799</td>\n",
       "      <td>OpenPlay</td>\n",
       "      <td>...</td>\n",
       "      <td>Pass</td>\n",
       "      <td>27.714901</td>\n",
       "      <td>1.569599</td>\n",
       "      <td>False</td>\n",
       "      <td>0</td>\n",
       "      <td>0</td>\n",
       "      <td>1</td>\n",
       "      <td>0</td>\n",
       "      <td>0</td>\n",
       "      <td>1</td>\n",
       "    </tr>\n",
       "  </tbody>\n",
       "</table>\n",
       "<p>18 rows × 29 columns</p>\n",
       "</div>"
      ],
      "text/plain": [
       "        id  minute       result          X          Y        xG  \\\n",
       "0   242611       2  MissedShots  97.343998  40.584001  0.107219   \n",
       "1   242612       4    SavedShot  83.823998  53.731998  0.021672   \n",
       "2   242613       4    SavedShot  80.912003  38.380000  0.023818   \n",
       "3   242614      17  MissedShots  97.032003  31.160000  0.018640   \n",
       "4   242617      21    SavedShot  73.943998  40.584001  0.015957   \n",
       "5   242621      31  MissedShots  82.783998  35.264001  0.038981   \n",
       "6   242622      36  MissedShots  78.936002  26.675999  0.052374   \n",
       "7   242624      42  BlockedShot  95.576002  28.120000  0.108435   \n",
       "8   242625      48  MissedShots  80.287997  29.260000  0.023656   \n",
       "9   242626      49  MissedShots  74.463998  37.087999  0.013119   \n",
       "10  242627      54  BlockedShot  94.536002  26.827999  0.094004   \n",
       "11  242628      54  BlockedShot  92.143998  24.167999  0.061035   \n",
       "12  242629      55         Goal  96.407997  34.960000  0.523555   \n",
       "13  242630      66  MissedShots  95.160000  41.192001  0.363155   \n",
       "14  242631      71  BlockedShot  71.240000  36.860000  0.031886   \n",
       "15  242632      72  BlockedShot  92.663998  36.555999  0.095320   \n",
       "16  242634      75         Goal  82.576002  36.404001  0.052035   \n",
       "17  242640      87  BlockedShot  82.680000  55.708002  0.018532   \n",
       "\n",
       "                      player h_a  player_id       situation      ...       \\\n",
       "0                        Ari   h       2930        OpenPlay      ...        \n",
       "1           Cristian Ramírez   h       5477        OpenPlay      ...        \n",
       "2           Mauricio Pereyra   h       2922        OpenPlay      ...        \n",
       "3                        Ari   h       2930      FromCorner      ...        \n",
       "4              Ivan Ignatyev   h       6025        OpenPlay      ...        \n",
       "5            Viktor Claesson   h       5478        OpenPlay      ...        \n",
       "6           Mauricio Pereyra   h       2922  DirectFreekick      ...        \n",
       "7              Sergei Petrov   h       2920        OpenPlay      ...        \n",
       "8      Aleksandr Martynovich   h       2790        OpenPlay      ...        \n",
       "9             Yuri Gazinskiy   h       2929        OpenPlay      ...        \n",
       "10  Magomed-Shapi Suleymanov   h       5926        OpenPlay      ...        \n",
       "11  Magomed-Shapi Suleymanov   h       5926        OpenPlay      ...        \n",
       "12  Magomed-Shapi Suleymanov   h       5926        OpenPlay      ...        \n",
       "13           Christian Cueva   h       6799        OpenPlay      ...        \n",
       "14          Cristian Ramírez   h       5477  DirectFreekick      ...        \n",
       "15             Sergei Petrov   h       2920      FromCorner      ...        \n",
       "16             Ivan Ignatyev   h       6025        OpenPlay      ...        \n",
       "17           Christian Cueva   h       6799        OpenPlay      ...        \n",
       "\n",
       "    lastAction   distance     angle   goal isDirectFreekick  isFromCorner  \\\n",
       "0      Chipped   7.139987  1.572033  False                0             0   \n",
       "1         None  25.584503  1.569417  False                0             0   \n",
       "2         Pass  23.091124  1.569214  False                0             0   \n",
       "3       Aerial   9.764148  1.566612  False                0             1   \n",
       "4         Pass  30.166874  1.569800  False                0             0   \n",
       "5         None  21.391690  1.569002  False                0             0   \n",
       "6     Standard  27.503400  1.569606  False                1             0   \n",
       "7         Pass  12.983765  1.566750  False                0             0   \n",
       "8         Pass  25.271460  1.569421  False                0             0   \n",
       "9         Pass  29.550078  1.569763  False                0             0   \n",
       "10        Pass  14.641751  1.567284  False                0             0   \n",
       "11        Pass  18.217821  1.568260  False                0             0   \n",
       "12        Pass   8.178026  1.569063   True                0             0   \n",
       "13       Cross   9.398642  1.567637  False                0             0   \n",
       "14    Standard  32.779829  1.569940  False                1             0   \n",
       "15        None  11.427601  1.567303  False                0             1   \n",
       "16        None  21.483364  1.569017   True                0             0   \n",
       "17        Pass  27.714901  1.569599  False                0             0   \n",
       "\n",
       "    isOpenPlay fromHead fromLeftFoot fromRightFoot  \n",
       "0            1        1            0             0  \n",
       "1            1        0            1             0  \n",
       "2            1        0            0             1  \n",
       "3            0        1            0             0  \n",
       "4            1        0            0             1  \n",
       "5            1        0            0             1  \n",
       "6            0        0            1             0  \n",
       "7            1        0            0             1  \n",
       "8            1        0            0             1  \n",
       "9            1        0            0             1  \n",
       "10           1        0            0             1  \n",
       "11           1        0            1             0  \n",
       "12           1        0            0             1  \n",
       "13           1        0            0             1  \n",
       "14           0        0            1             0  \n",
       "15           0        0            0             1  \n",
       "16           1        0            0             1  \n",
       "17           1        0            0             1  \n",
       "\n",
       "[18 rows x 29 columns]"
      ]
     },
     "execution_count": 32,
     "metadata": {},
     "output_type": "execute_result"
    }
   ],
   "source": [
    "df"
   ]
  },
  {
   "cell_type": "code",
   "execution_count": 33,
   "metadata": {
    "scrolled": true
   },
   "outputs": [
    {
     "data": {
      "text/plain": [
       "Index(['id', 'minute', 'result', 'X', 'Y', 'xG', 'player', 'h_a', 'player_id',\n",
       "       'situation', 'season', 'shotType', 'match_id', 'h_team', 'a_team',\n",
       "       'h_goals', 'a_goals', 'date', 'player_assisted', 'lastAction',\n",
       "       'distance', 'angle', 'goal', 'isDirectFreekick', 'isFromCorner',\n",
       "       'isOpenPlay', 'fromHead', 'fromLeftFoot', 'fromRightFoot'],\n",
       "      dtype='object')"
      ]
     },
     "execution_count": 33,
     "metadata": {},
     "output_type": "execute_result"
    }
   ],
   "source": [
    "df.columns"
   ]
  },
  {
   "cell_type": "markdown",
   "metadata": {},
   "source": [
    "Oh Boi, that's a lot of columns. Not to worry though. We will not be using all of them. Only a subset, atleast for this model. This subset is stored in the cols list"
   ]
  },
  {
   "cell_type": "code",
   "execution_count": 36,
   "metadata": {},
   "outputs": [],
   "source": [
    "# cols = ['distance','angle','isDirectFreekick','isFromCorner','isOpenPlay','isPenalty','isSetPiece','fromHead','fromLeftFoot','fromOtherBodyPart','fromRightFoot','goal']\n",
    "\n",
    "cols = ['distance','angle','isDirectFreekick','isFromCorner','isOpenPlay','fromHead','fromLeftFoot','fromRightFoot','goal']"
   ]
  },
  {
   "cell_type": "markdown",
   "metadata": {},
   "source": [
    "We create a new DataFrame by the name of shot to store the subset data from the selected columns."
   ]
  },
  {
   "cell_type": "code",
   "execution_count": 37,
   "metadata": {},
   "outputs": [],
   "source": [
    "shot = df[cols]"
   ]
  },
  {
   "cell_type": "markdown",
   "metadata": {},
   "source": [
    "The aim of this whole endeavour is to make a model which will output wether a shot is goal or not. Thus, the goal feature is taken as a series by the name of Y and the rest of the independent features are stored in the DataFrame X."
   ]
  },
  {
   "cell_type": "code",
   "execution_count": 38,
   "metadata": {},
   "outputs": [],
   "source": [
    "X=shot.drop('goal',axis=1)\n",
    "Y=shot['goal']"
   ]
  },
  {
   "cell_type": "code",
   "execution_count": 39,
   "metadata": {},
   "outputs": [
    {
     "data": {
      "text/plain": [
       "Index(['distance', 'angle', 'isDirectFreekick', 'isFromCorner', 'isOpenPlay',\n",
       "       'fromHead', 'fromLeftFoot', 'fromRightFoot'],\n",
       "      dtype='object')"
      ]
     },
     "execution_count": 39,
     "metadata": {},
     "output_type": "execute_result"
    }
   ],
   "source": [
    "X.columns"
   ]
  },
  {
   "cell_type": "markdown",
   "metadata": {},
   "source": [
    "Y series currently consists of values in the form of True and False but we would like it to be a binary value i.e. 1 or 0. Thus, we use LabelEncoder available in the sklearn library."
   ]
  },
  {
   "cell_type": "code",
   "execution_count": 40,
   "metadata": {},
   "outputs": [],
   "source": [
    "from sklearn.preprocessing import LabelEncoder\n",
    "le = LabelEncoder()\n",
    "Y=le.fit_transform(Y)"
   ]
  },
  {
   "cell_type": "markdown",
   "metadata": {},
   "source": [
    "We will have to construct both a train data set and test data set to check the validity of our model.\n",
    "Thus, we break up our dataset into two parts in 70:30 ratio. 70% of shots are present in the training set and the rest 30% are used as an hold-out test set."
   ]
  },
  {
   "cell_type": "markdown",
   "metadata": {},
   "source": [
    "#### MODEL FITTING & TESTING"
   ]
  },
  {
   "cell_type": "markdown",
   "metadata": {},
   "source": [
    "Lo and Behold, we are finally at the point to train the model. The first Model that I'm using here is Logistic Regression because it is realtively cheaper computationally."
   ]
  },
  {
   "cell_type": "code",
   "execution_count": 41,
   "metadata": {},
   "outputs": [
    {
     "name": "stderr",
     "output_type": "stream",
     "text": [
      "C:\\ProgramData\\Anaconda3\\lib\\site-packages\\sklearn\\cross_validation.py:41: DeprecationWarning: This module was deprecated in version 0.18 in favor of the model_selection module into which all the refactored classes and functions are moved. Also note that the interface of the new CV iterators are different from that of this module. This module will be removed in 0.20.\n",
      "  \"This module will be removed in 0.20.\", DeprecationWarning)\n"
     ]
    },
    {
     "data": {
      "text/plain": [
       "LogisticRegression(C=1.0, class_weight=None, dual=False, fit_intercept=True,\n",
       "          intercept_scaling=1, max_iter=100, multi_class='ovr', n_jobs=1,\n",
       "          penalty='l2', random_state=None, solver='liblinear', tol=0.0001,\n",
       "          verbose=0, warm_start=False)"
      ]
     },
     "execution_count": 41,
     "metadata": {},
     "output_type": "execute_result"
    }
   ],
   "source": [
    "from sklearn.linear_model import LogisticRegression\n",
    "from sklearn.cross_validation import train_test_split\n",
    "\n",
    "reg = LogisticRegression()\n",
    "\n",
    "X_train,X_test,Y_train,Y_test = train_test_split(X,Y,test_size=0.3,random_state=42)\n",
    "\n",
    "reg.fit(X_train,Y_train)"
   ]
  },
  {
   "cell_type": "code",
   "execution_count": 42,
   "metadata": {},
   "outputs": [
    {
     "data": {
      "text/plain": [
       "1.0"
      ]
     },
     "execution_count": 42,
     "metadata": {},
     "output_type": "execute_result"
    }
   ],
   "source": [
    "reg.score(X_test,Y_test)"
   ]
  },
  {
   "cell_type": "markdown",
   "metadata": {},
   "source": [
    "We obtain an accuracy of 90.4% which is decent considering the size of data. Moreover, we did not take a lot of features into account."
   ]
  },
  {
   "cell_type": "markdown",
   "metadata": {},
   "source": [
    "90% sounds good but it's classifying wheteher a shot is a goal or not and the dataset is skewed towards having a lot more shots as not a goal in comaprisons to ones which actually ended up being a goal."
   ]
  },
  {
   "cell_type": "markdown",
   "metadata": {},
   "source": [
    "Thus, judging the performance of a model based on just the accuracy is not a good practice. Let's look at the predictions themselves with the help of a confusion matrix."
   ]
  },
  {
   "cell_type": "code",
   "execution_count": 43,
   "metadata": {},
   "outputs": [
    {
     "name": "stdout",
     "output_type": "stream",
     "text": [
      "[[6]]\n"
     ]
    }
   ],
   "source": [
    "preds = reg.predict(X_test)\n",
    "\n",
    "from sklearn.metrics import confusion_matrix\n",
    "confusion_matrix = confusion_matrix(Y_test,preds)\n",
    "print(confusion_matrix)"
   ]
  },
  {
   "cell_type": "markdown",
   "metadata": {},
   "source": [
    "The Confusion Matrix shows us Exactly how the model performed in terms of raw output. The top left value indicates shots that were rightly predicted as not goals. The righta are shots that were predicted as goals but were not.\n",
    "\n",
    "The second row contains shots that were classified as not goal but were infact, goals. On the right of it, we have the shots that were correctly classified as goals."
   ]
  },
  {
   "cell_type": "markdown",
   "metadata": {},
   "source": [
    "Another tool to look at the performance of the model is an ROC curve. The area under ROC curve for our model is 80% which is quite good."
   ]
  },
  {
   "cell_type": "code",
   "execution_count": 34,
   "metadata": {},
   "outputs": [
    {
     "data": {
      "image/png": "[encoded data removed]",
      "text/plain": [
       "<Figure size 432x288 with 1 Axes>"
      ]
     },
     "metadata": {},
     "output_type": "display_data"
    }
   ],
   "source": [
    "from sklearn.metrics import roc_curve\n",
    "from sklearn.metrics import auc\n",
    "probs = reg.predict_proba(X_test)\n",
    "preds = probs[:,1]\n",
    "fpr, tpr, threshold = roc_curve(Y_test, preds)\n",
    "roc_auc = auc(fpr, tpr)\n",
    "\n",
    "# method I: plt\n",
    "import matplotlib.pyplot as plt\n",
    "plt.title('Receiver Operating Characteristic')\n",
    "plt.plot(fpr, tpr, 'b', label = 'AUC = %0.2f' % roc_auc)\n",
    "plt.legend(loc = 'lower right')\n",
    "plt.plot([0, 1], [0, 1],'r--')\n",
    "plt.xlim([0, 1])\n",
    "plt.ylim([0, 1])\n",
    "plt.ylabel('True Positive Rate')\n",
    "plt.xlabel('False Positive Rate')\n",
    "plt.show()"
   ]
  },
  {
   "cell_type": "markdown",
   "metadata": {},
   "source": [
    "The same methodology is used to build a Random Forest Classification Model."
   ]
  },
  {
   "cell_type": "code",
   "execution_count": 35,
   "metadata": {},
   "outputs": [
    {
     "data": {
      "text/plain": [
       "RandomForestClassifier(bootstrap=True, class_weight=None, criterion='gini',\n",
       "            max_depth=None, max_features='auto', max_leaf_nodes=None,\n",
       "            min_impurity_decrease=0.0, min_impurity_split=None,\n",
       "            min_samples_leaf=1, min_samples_split=2,\n",
       "            min_weight_fraction_leaf=0.0, n_estimators=10, n_jobs=1,\n",
       "            oob_score=False, random_state=None, verbose=0,\n",
       "            warm_start=False)"
      ]
     },
     "execution_count": 35,
     "metadata": {},
     "output_type": "execute_result"
    }
   ],
   "source": [
    "from sklearn.ensemble import RandomForestClassifier\n",
    "reg2 = RandomForestClassifier()\n",
    "reg2.fit(X_train,Y_train)"
   ]
  },
  {
   "cell_type": "code",
   "execution_count": 36,
   "metadata": {},
   "outputs": [
    {
     "data": {
      "text/plain": [
       "0.8782698553291999"
      ]
     },
     "execution_count": 36,
     "metadata": {},
     "output_type": "execute_result"
    }
   ],
   "source": [
    "reg2.score(X_test,Y_test)"
   ]
  },
  {
   "cell_type": "code",
   "execution_count": 37,
   "metadata": {},
   "outputs": [
    {
     "name": "stdout",
     "output_type": "stream",
     "text": [
      "[[57700  2952]\n",
      " [ 5294  1794]]\n"
     ]
    }
   ],
   "source": [
    "preds = reg2.predict(X_test)\n",
    "\n",
    "from sklearn.metrics import confusion_matrix\n",
    "confusion_matrix = confusion_matrix(Y_test,preds)\n",
    "print(confusion_matrix)"
   ]
  },
  {
   "cell_type": "code",
   "execution_count": 38,
   "metadata": {
    "scrolled": true
   },
   "outputs": [
    {
     "data": {
      "image/png": "[encoded data removed]",
      "text/plain": [
       "<Figure size 432x288 with 1 Axes>"
      ]
     },
     "metadata": {},
     "output_type": "display_data"
    }
   ],
   "source": [
    "from sklearn.metrics import roc_curve\n",
    "from sklearn.metrics import auc\n",
    "probs = reg2.predict_proba(X_test)\n",
    "preds = probs[:,1]\n",
    "fpr, tpr, threshold = roc_curve(Y_test, preds)\n",
    "roc_auc = auc(fpr, tpr)\n",
    "\n",
    "# method I: plt\n",
    "import matplotlib.pyplot as plt\n",
    "plt.title('Receiver Operating Characteristic')\n",
    "plt.plot(fpr, tpr, 'b', label = 'AUC = %0.2f' % roc_auc)\n",
    "plt.legend(loc = 'lower right')\n",
    "plt.plot([0, 1], [0, 1],'r--')\n",
    "plt.xlim([0, 1])\n",
    "plt.ylim([0, 1])\n",
    "plt.ylabel('True Positive Rate')\n",
    "plt.xlabel('False Positive Rate')\n",
    "plt.show()"
   ]
  },
  {
   "cell_type": "markdown",
   "metadata": {},
   "source": [
    "As we see that the both accuracy and area under ROC curve is worse, Logistic Regression seems to be a better choice for our Expected Goals Model."
   ]
  },
  {
   "cell_type": "markdown",
   "metadata": {},
   "source": [
    "#### RESUTLS"
   ]
  },
  {
   "cell_type": "code",
   "execution_count": 39,
   "metadata": {},
   "outputs": [],
   "source": [
    "temp = df[cols]\n",
    "shots=shot.drop('goal',axis=1)"
   ]
  },
  {
   "cell_type": "markdown",
   "metadata": {},
   "source": [
    "The below graph shows the value of xG changing as the distance and angle change."
   ]
  },
  {
   "cell_type": "code",
   "execution_count": 40,
   "metadata": {},
   "outputs": [
    {
     "data": {
      "text/plain": [
       "<matplotlib.colorbar.Colorbar at 0x1336d2dc6d8>"
      ]
     },
     "execution_count": 40,
     "metadata": {},
     "output_type": "execute_result"
    },
    {
     "data": {
      "image/png": "[encoded data removed]",
      "text/plain": [
       "<Figure size 432x288 with 2 Axes>"
      ]
     },
     "metadata": {},
     "output_type": "display_data"
    }
   ],
   "source": [
    "plt.scatter(shots['distance'],shots['angle'],c=reg.predict_proba(shots)[:,1])\n",
    "plt.xlabel('distance')\n",
    "plt.ylabel('angle')\n",
    "plt.colorbar()"
   ]
  },
  {
   "cell_type": "code",
   "execution_count": 41,
   "metadata": {},
   "outputs": [
    {
     "data": {
      "image/png": "[encoded data removed]",
      "text/plain": [
       "<Figure size 432x288 with 2 Axes>"
      ]
     },
     "metadata": {},
     "output_type": "display_data"
    }
   ],
   "source": [
    "import matplotlib.pyplot as plt\n",
    "from matplotlib.patches import Arc\n",
    "\n",
    "fig=plt.figure()\n",
    "#fig,ax = plt.subplots(figsize=(10.4,7.6))\n",
    "ax=fig.add_subplot(1,1,1)\n",
    "ax.axis('off')\n",
    "\n",
    "plt.plot([0,104],[0,0],color=\"black\")\n",
    "plt.plot([0,0],[76,0],color=\"black\")\n",
    "plt.plot([0,104],[76,76],color=\"black\")\n",
    "plt.plot([104,104],[76,0],color=\"black\")\n",
    "plt.plot([52,52],[0,76],color=\"black\")\n",
    "\n",
    "plt.plot([104,86.32],[60,60],color=\"black\")\n",
    "plt.plot([86.32,104],[16,16],color=\"black\")\n",
    "plt.plot([86.32,86.32],[60,16],color=\"black\")\n",
    "plt.plot([104,97.97],[48,48],color=\"black\")\n",
    "plt.plot([104,97.97],[27.968,27.968],color=\"black\")\n",
    "plt.plot([97.97,97.97],[48,27.968],color=\"black\")\n",
    "\n",
    "plt.plot([104,104],[34,42],color=\"red\")\n",
    "\n",
    "penaltySpot = plt.Circle((92.04,38),0.25,color=\"black\")\n",
    "centreSpot = plt.Circle((52,38),0.5,color=\"black\")\n",
    "centreCircle = plt.Circle((52,38),10,color=\"black\",fill=False)\n",
    "\n",
    "D = Arc((92.04,38),height=20,width=20,angle=0,theta1=125,theta2=235,color=\"black\")\n",
    "\n",
    "ax.add_patch(centreSpot)\n",
    "ax.add_patch(centreCircle)\n",
    "ax.add_patch(penaltySpot)\n",
    "ax.add_patch(D)\n",
    "\n",
    "\n",
    "plt.scatter(df['X'],df['Y'],c=reg.predict_proba(shots)[:,1],alpha=0.7)\n",
    "plt.colorbar()\n",
    "plt.show()\n"
   ]
  },
  {
   "cell_type": "markdown",
   "metadata": {},
   "source": [
    "The above graph shows that our xG model atleast captures the intuitive nature of shot conversion. A shot from a greater angle of view and lesser distance is more likely to go in."
   ]
  },
  {
   "cell_type": "markdown",
   "metadata": {},
   "source": [
    "Thus, we add the model output of xG to the original dataframe"
   ]
  },
  {
   "cell_type": "code",
   "execution_count": 42,
   "metadata": {},
   "outputs": [],
   "source": [
    "df['xG'] = reg.predict_proba(shots)[:,1]"
   ]
  },
  {
   "cell_type": "code",
   "execution_count": 43,
   "metadata": {},
   "outputs": [
    {
     "data": {
      "text/plain": [
       "Index(['X', 'Y', 'a_goals', 'a_team', 'date', 'h_a', 'h_goals', 'h_team', 'id',\n",
       "       'lastAction', 'match_id', 'minute', 'player', 'player_assisted',\n",
       "       'player_id', 'result', 'season', 'shotType', 'situation', 'distance',\n",
       "       'angle', 'goal', 'isDirectFreekick', 'isFromCorner', 'isOpenPlay',\n",
       "       'isPenalty', 'isSetPiece', 'fromHead', 'fromLeftFoot',\n",
       "       'fromOtherBodyPart', 'fromRightFoot', 'xG'],\n",
       "      dtype='object')"
      ]
     },
     "execution_count": 43,
     "metadata": {},
     "output_type": "execute_result"
    }
   ],
   "source": [
    "df.columns"
   ]
  },
  {
   "cell_type": "code",
   "execution_count": 44,
   "metadata": {
    "scrolled": true
   },
   "outputs": [
    {
     "data": {
      "text/plain": [
       "Text(0,0.5,'Expected Goals')"
      ]
     },
     "execution_count": 44,
     "metadata": {},
     "output_type": "execute_result"
    },
    {
     "data": {
      "image/png": "[encoded data removed]",
      "text/plain": [
       "<Figure size 432x288 with 1 Axes>"
      ]
     },
     "metadata": {},
     "output_type": "display_data"
    }
   ],
   "source": [
    "Actual = df.groupby('player')['goal'].sum()\n",
    "Expected = df.groupby('player')['xG'].sum()\n",
    "\n",
    "plt.scatter(Actual,Expected)\n",
    "plt.title('Goals v Expected Goals')\n",
    "plt.xlabel('Actual Goals')\n",
    "plt.ylabel('Expected Goals')"
   ]
  },
  {
   "cell_type": "markdown",
   "metadata": {},
   "source": [
    "We can see that a clear linear relationship exists between the Expected Goals and Actual Goals which is a very good sign for our model.\n",
    "Let's try fitting a line to this."
   ]
  },
  {
   "cell_type": "code",
   "execution_count": 45,
   "metadata": {},
   "outputs": [
    {
     "data": {
      "text/plain": [
       "Text(0,0.5,'Expected Goals')"
      ]
     },
     "execution_count": 45,
     "metadata": {},
     "output_type": "execute_result"
    },
    {
     "data": {
      "image/png": "[encoded data removed]",
      "text/plain": [
       "<Figure size 432x288 with 1 Axes>"
      ]
     },
     "metadata": {},
     "output_type": "display_data"
    }
   ],
   "source": [
    "import numpy as np\n",
    "from sklearn.linear_model import LinearRegression\n",
    "lmod = LinearRegression()\n",
    "lmod.fit(np.array(Actual).reshape(-1,1),Expected)\n",
    "\n",
    "x=np.linspace(0,150,1000)\n",
    "y=lmod.predict(x.reshape(-1,1))\n",
    "\n",
    "plt.plot(x,y,color='r')\n",
    "plt.scatter(Actual,Expected)\n",
    "plt.title('Goals v Expected Goals')\n",
    "plt.xlabel('Actual Goals')\n",
    "plt.ylabel('Expected Goals')"
   ]
  },
  {
   "cell_type": "markdown",
   "metadata": {},
   "source": [
    "On a side note, 10 Ballon D'or on the top right."
   ]
  },
  {
   "cell_type": "markdown",
   "metadata": {},
   "source": [
    "### CONCLUSION"
   ]
  },
  {
   "cell_type": "markdown",
   "metadata": {},
   "source": [
    "The model was rather simplistic in nature and was made with very few features still managed to capture the intuitiveness of the data and is decent at predicting the number of goals given shot locations and some context data. \n",
    "\n",
    "The model could be refined more with more context and more importantly, more data."
   ]
  }
 ],
 "metadata": {
  "kernelspec": {
   "display_name": "Python 3",
   "language": "python",
   "name": "python3"
  },
  "language_info": {
   "codemirror_mode": {
    "name": "ipython",
    "version": 3
   },
   "file_extension": ".py",
   "mimetype": "text/x-python",
   "name": "python",
   "nbconvert_exporter": "python",
   "pygments_lexer": "ipython3",
   "version": "3.6.5"
  }
 },
 "nbformat": 4,
 "nbformat_minor": 2
}
